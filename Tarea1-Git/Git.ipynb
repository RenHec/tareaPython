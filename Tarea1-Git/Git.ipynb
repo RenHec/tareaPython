{
 "cells": [
  {
   "cell_type": "markdown",
   "metadata": {},
   "source": [
    "# Git"
   ]
  },
  {
   "cell_type": "markdown",
   "metadata": {},
   "source": [
    "Es un software gratuito de control de veriones, la ventaja de utilizar herramientas como estas es que nos ayuda a tener un control de avances y nos permite regresar a versiones anteriores.\n",
    "\n",
    "La herramienta utiliza comandos para crear:\n",
    "\n",
    "    - un nuevo repositorio local (git init)\n",
    "    - un nuevo repositorio remoto (git init --bare)\n",
    "    - sincronizar repositorio remoto (git remote add)\n",
    "    - agregar modificaciones al índice (git add)\n",
    "    - agregar el índice a la cabecera (git commit)\n",
    "    - subir cambios a una rama de trabajo (git push)\n",
    "    - actualizar la rama de trabajo (git pull)"
   ]
  },
  {
   "cell_type": "markdown",
   "metadata": {},
   "source": [
    "<img src=\"https://digitalagerevival.com/wp-content/uploads/2019/10/a2ee07fe477fa27315b01b200892a077-1.png\" width=\"500\">"
   ]
  },
  {
   "cell_type": "markdown",
   "metadata": {},
   "source": [
    "## Ejemplo de comandos\n"
   ]
  },
  {
   "cell_type": "markdown",
   "metadata": {},
   "source": [
    "Con el siguiente comando podemos clonar un repositorio ya existente, el clonar significa crear una copia del proyecto original en la ruta asignada.\n",
    "\n",
    "### git clone 192.168.1.1@ubuntu:/home/ubuntu/proyecto/existe\n"
   ]
  },
  {
   "cell_type": "markdown",
   "metadata": {},
   "source": [
    "Con el siguiente comando creamos un nuevo repositorio local\n",
    "\n",
    "### git init "
   ]
  },
  {
   "cell_type": "markdown",
   "metadata": {},
   "source": [
    "Con el siguiente comando creamos un nuevo repositorio remoto, podriamos definir el repositorio principal en un servidor para tener un mejor control de versionamiento en el equipo de trabajo.\n",
    "\n",
    "### git init --bare"
   ]
  },
  {
   "cell_type": "markdown",
   "metadata": {},
   "source": [
    "Con el siguiente comando sincronizamos el repositorio local con el repositorio remoto.\n",
    "\n",
    "### git remote add origin 192.168.1.1@ubuntu:/home/ubuntu/proyecto/uno"
   ]
  },
  {
   "cell_type": "markdown",
   "metadata": {},
   "source": [
    "Con el siguiente comando añadimos los cambios realizados al índice.\n",
    "\n",
    "### git add ."
   ]
  },
  {
   "cell_type": "markdown",
   "metadata": {},
   "source": [
    "Con el siguiente comando agregamos los índices añadidos a la cabecera del repositorio.\n",
    "\n",
    "### git commit -m \"Cambios\""
   ]
  },
  {
   "cell_type": "markdown",
   "metadata": {},
   "source": [
    "Con el siguiente comando acutalizamos la rama de trabajo en el repositorio remoto.\n",
    "\n",
    "### git push origin master"
   ]
  },
  {
   "cell_type": "markdown",
   "metadata": {},
   "source": [
    "Con el siguiente comando actualizamos la rama de trabajo del repositorio local.\n",
    "\n",
    "### git pull origin master"
   ]
  },
  {
   "cell_type": "markdown",
   "metadata": {},
   "source": [
    "En algunos comandos anteriores utilizamos las palabras \"origin\" y \"master\", ¿qué significa? \n",
    "\n",
    "### origin, es el nombre de la configuración remota.\n",
    "### master, es el nombre de la rama (branch)."
   ]
  }
 ],
 "metadata": {
  "kernelspec": {
   "display_name": "Python 3",
   "language": "python",
   "name": "python3"
  },
  "language_info": {
   "codemirror_mode": {
    "name": "ipython",
    "version": 3
   },
   "file_extension": ".py",
   "mimetype": "text/x-python",
   "name": "python",
   "nbconvert_exporter": "python",
   "pygments_lexer": "ipython3",
   "version": "3.7.4"
  }
 },
 "nbformat": 4,
 "nbformat_minor": 2
}
